{
 "cells": [
  {
   "cell_type": "code",
   "execution_count": 16,
   "metadata": {},
   "outputs": [],
   "source": [
    "import os\n",
    "import numpy as np\n",
    "import pandas as pd\n",
    "import librosa\n",
    "from scipy.io import wavfile\n",
    "import warnings\n",
    "from pydub import AudioSegment\n",
    "import ffmpeg"
   ]
  },
  {
   "cell_type": "code",
   "execution_count": 2,
   "metadata": {},
   "outputs": [],
   "source": [
    "path1='C:/Users/todtj/OneDrive/바탕 화면/TED1/'   # 원본 음성파일\n",
    "path2='C:/Users/todtj/OneDrive/바탕 화면/script1/' # 크롤링해서 저장된 폴더\n",
    "path3='C:/Users/todtj/OneDrive/바탕 화면/save/'   # 저장될공간"
   ]
  },
  {
   "cell_type": "markdown",
   "metadata": {},
   "source": [
    "## 문장단위로 만드는 코드 + 주석 부분 처리하면 음원 대본에맞게 잘림\n"
   ]
  },
  {
   "cell_type": "code",
   "execution_count": 6,
   "metadata": {},
   "outputs": [],
   "source": [
    "path1='C:/Users/todtj/OneDrive/바탕 화면/TED1/'   # 원본 음성파일\n",
    "path2='C:/Users/todtj/OneDrive/바탕 화면/script1/' # 크롤링해서 저장된 폴더\n",
    "path3='C:/Users/todtj/OneDrive/바탕 화면/save/'   # 저장될공간\n",
    "file_list1=os.listdir(path1)\n",
    "file_list2=os.listdir(path2)\n",
    "for g in range(len(file_list2)):\n",
    "    voice1=path1+file_list1[g]\n",
    "    sound = AudioSegment.from_file(voice1,frame_rate=16000)\n",
    "    script1=pd.read_csv(path2+file_list2[g])\n",
    "    if script1.columns[0]=='Unnamed: 0':\n",
    "        del script1['Unnamed: 0']\n",
    "    if len(script1.columns)==3:\n",
    "        script1['sentence2']=''\n",
    "    elif len(script1.columns)==4:\n",
    "        script1['sentence2'].fillna('',inplace=True)\n",
    "    script1['sentence3']=script1['sentence1']+' '+script1['sentence2']\n",
    "## start##\n",
    "    spl=script1['start'].str.split(':')\n",
    "    empty=[]\n",
    "    for i in range(len(script1)):\n",
    "        minute=float(spl[i][1])*60\n",
    "        seconds=float(spl[i][2])\n",
    "        m_s=minute+seconds\n",
    "        empty.append(m_s)\n",
    "    script1['start_seconds']=empty\n",
    "## end##\n",
    "    spl=script1['end'].str.split(':')\n",
    "    empty=[]\n",
    "    for i in range(len(script1)):\n",
    "        minute=float(spl[i][1])*60\n",
    "        seconds=float(spl[i][2])\n",
    "        m_s=minute+seconds\n",
    "        empty.append(m_s)\n",
    "    script1['end_seconds']=empty\n",
    "    script1['start_seconds1']=script1['start_seconds']\n",
    "    script1['end_seconds1']=script1['end_seconds']\n",
    "    script1['duration']=script1['end_seconds1']-script1['start_seconds1']\n",
    "    sentence_cut=[]\n",
    "    start_cut=[]\n",
    "    end_cut=[]\n",
    "    a=''\n",
    "    b=0\n",
    "    c=0\n",
    "    count=0\n",
    "    \n",
    "    for i in range(len(script1)):\n",
    "        if '.' in script1['sentence3'][i]:\n",
    "            a=a+ script1['sentence3'][i]\n",
    "            b=script1['start_seconds1'][i-count]\n",
    "            c=script1['end_seconds1'][i]\n",
    "            sentence_cut.append(a)\n",
    "            start_cut.append(b)\n",
    "            end_cut.append(c)\n",
    "            a=''\n",
    "            c=0 \n",
    "            count=0 \n",
    "        else:\n",
    "            a=a+ ' ' + script1['sentence3'][i]\n",
    "            count=count+1        \n",
    "    final=pd.DataFrame([sentence_cut,start_cut,end_cut]).T\n",
    "    final.columns=['sentence','start','end']\n",
    "    final['duration']=final['end']-final['start']\n",
    "    for i in range(len(final)):\n",
    "        sound_sliced=sound[(final['start'][i]*1000-100):final['end'][i]*1000]\n",
    "        sound_sliced.export(path3+file_list1[g].replace(\".wav\",\"\")+\"_\"+str(i)+\".wav\", format=\"wav\",bitrate=16)\n",
    "        #y,sr= librosa.load(voice1,offset=final['start'][i],duration=final['duration'][i],sr=16000)\n",
    "        #librosa.output.write_wav(path3+file_list1[g].replace(\".wav\",\"\")+\"_\"+str(i)+\".wav\",y,sr)\n",
    "    final.to_csv(path3+file_list1[g]+'.csv',index=False)\n"
   ]
  },
  {
   "cell_type": "markdown",
   "metadata": {},
   "source": [
    "# 합치기"
   ]
  },
  {
   "cell_type": "code",
   "execution_count": null,
   "metadata": {},
   "outputs": [],
   "source": [
    "for i in range(len(file_list2)):\n",
    "    a=path2+file_list2[i]\n",
    "    df=pd.read_csv(a)\n",
    "    df['talk_id']"
   ]
  }
 ],
 "metadata": {
  "kernelspec": {
   "display_name": "Python 3",
   "language": "python",
   "name": "python3"
  },
  "language_info": {
   "codemirror_mode": {
    "name": "ipython",
    "version": 3
   },
   "file_extension": ".py",
   "mimetype": "text/x-python",
   "name": "python",
   "nbconvert_exporter": "python",
   "pygments_lexer": "ipython3",
   "version": "3.8.3"
  }
 },
 "nbformat": 4,
 "nbformat_minor": 4
}
