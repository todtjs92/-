{
 "cells": [
  {
   "cell_type": "code",
   "execution_count": null,
   "metadata": {},
   "outputs": [],
   "source": [
    "import os\n",
    "import youtube_dl\n",
    "\n",
    "import pandas as pd\n",
    "\n",
    "import ffmpeg"
   ]
  },
  {
   "cell_type": "code",
   "execution_count": null,
   "metadata": {},
   "outputs": [],
   "source": [
    "def download_video_and_subtitle(output_dir, youtube_video_list):\n",
    "\n",
    "    download_path = os.path.join(output_dir, #'%(id)s-%(title)s.%(ext)s')\n",
    "                                 '%(title)s.%(ext)s')\n",
    "    i=1\n",
    "    for video_url in youtube_video_list:\n",
    "        print(i/len(youtube_video_list))\n",
    "        i+=1\n",
    "        ydl_opts = {\n",
    "            'format': 'bestaudio/best',  # 가장 좋은 화질로 선택, 오디오만(화질을 선택하여 다운로드 가능)\n",
    "            'outtmpl': download_path,# 다운로드 경로 설정\n",
    "            'postprocessors': [{\n",
    "         'key': 'FFmpegExtractAudio',\n",
    "         'preferredcodec': 'wav',\n",
    "         'preferredquality': '192'}]}\n",
    "        \n",
    "\n",
    "        try:\n",
    "            with youtube_dl.YoutubeDL(ydl_opts) as ydl:\n",
    "                ydl.download([video_url])\n",
    "        except Exception as e:\n",
    "            print('error', e)"
   ]
  },
  {
   "cell_type": "code",
   "execution_count": null,
   "metadata": {
    "scrolled": true
   },
   "outputs": [],
   "source": [
    "VIDEO_DOWNLOAD_PATH = 'C:/Users/HAPPY/Desktop/Tedwav'  # 다운로드 경로\n",
    "df2=pd.read_csv('C:/Users/HAPPY/Desktop/Ted crawling/ted scrap/TEDscraper-master/data/ted_talks.csv') # csv파일있는 경로\n",
    "df2"
   ]
  },
  {
   "cell_type": "code",
   "execution_count": null,
   "metadata": {
    "scrolled": true
   },
   "outputs": [],
   "source": [
    "#ted_url_list =df2['url']\n",
    "ted_url_list = [df2['url'][i] for i in range(0,100)] # 용량상 100개만(20기가)\n",
    "download_video_and_subtitle(VIDEO_DOWNLOAD_PATH, ted_url_list)\n",
    "print('Complete download!')"
   ]
  },
  {
   "cell_type": "code",
   "execution_count": null,
   "metadata": {},
   "outputs": [],
   "source": []
  }
 ],
 "metadata": {
  "kernelspec": {
   "display_name": "Python 3",
   "language": "python",
   "name": "python3"
  },
  "language_info": {
   "codemirror_mode": {
    "name": "ipython",
    "version": 3
   },
   "file_extension": ".py",
   "mimetype": "text/x-python",
   "name": "python",
   "nbconvert_exporter": "python",
   "pygments_lexer": "ipython3",
   "version": "3.8.3"
  },
  "toc": {
   "base_numbering": 1,
   "nav_menu": {},
   "number_sections": true,
   "sideBar": true,
   "skip_h1_title": false,
   "title_cell": "Table of Contents",
   "title_sidebar": "Contents",
   "toc_cell": false,
   "toc_position": {},
   "toc_section_display": true,
   "toc_window_display": false
  },
  "varInspector": {
   "cols": {
    "lenName": 16,
    "lenType": 16,
    "lenVar": 40
   },
   "kernels_config": {
    "python": {
     "delete_cmd_postfix": "",
     "delete_cmd_prefix": "del ",
     "library": "var_list.py",
     "varRefreshCmd": "print(var_dic_list())"
    },
    "r": {
     "delete_cmd_postfix": ") ",
     "delete_cmd_prefix": "rm(",
     "library": "var_list.r",
     "varRefreshCmd": "cat(var_dic_list()) "
    }
   },
   "types_to_exclude": [
    "module",
    "function",
    "builtin_function_or_method",
    "instance",
    "_Feature"
   ],
   "window_display": false
  }
 },
 "nbformat": 4,
 "nbformat_minor": 4
}
